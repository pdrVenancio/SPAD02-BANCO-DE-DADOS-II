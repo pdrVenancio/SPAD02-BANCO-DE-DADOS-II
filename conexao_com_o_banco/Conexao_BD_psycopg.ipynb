{
 "cells": [
  {
   "cell_type": "markdown",
   "id": "b61b27d3",
   "metadata": {},
   "source": [
    "PRÁTICA 1\n",
    "Conexão com o BD"
   ]
  },
  {
   "cell_type": "code",
   "execution_count": 2,
   "id": "981ae6be",
   "metadata": {
    "scrolled": true
   },
   "outputs": [],
   "source": [
    "import psycopg"
   ]
  },
  {
   "cell_type": "code",
   "execution_count": 3,
   "id": "56999dae",
   "metadata": {
    "scrolled": true
   },
   "outputs": [
    {
     "data": {
      "text/plain": [
       "'3.2.6'"
      ]
     },
     "execution_count": 3,
     "metadata": {},
     "output_type": "execute_result"
    }
   ],
   "source": [
    "from importlib.metadata import version\n",
    "version('psycopg')"
   ]
  },
  {
   "cell_type": "code",
   "execution_count": 16,
   "id": "b5d6faae",
   "metadata": {
    "scrolled": false
   },
   "outputs": [
    {
     "name": "stdout",
     "output_type": "stream",
     "text": [
      "Conexão executada com sucesso\n"
     ]
    }
   ],
   "source": [
    "\n",
    "from psycopg import OperationalError\n",
    "#Conexão com o banco de dados\n",
    "#string de conexão é formada pelo endereço do banco (host), nome do banco, nome do usuário e a senha\n",
    "#northwind é a instância dessa conexão\n",
    "try:\n",
    "    northwind = psycopg.connect(\n",
    "        host='localhost',\n",
    "        dbname='northwind', \n",
    "        user = 'postgres', \n",
    "        password = 'root'\n",
    "    )\n",
    "    print (\"Conexão executada com sucesso\")\n",
    "except OperationalError as e:\n",
    "    print(e)"
   ]
  },
  {
   "cell_type": "code",
   "execution_count": 14,
   "id": "a8de3ef9",
   "metadata": {
    "scrolled": true
   },
   "outputs": [],
   "source": [
    "northwind.close()"
   ]
  },
  {
   "cell_type": "markdown",
   "id": "5248565f",
   "metadata": {},
   "source": [
    "PRÁTICA 2\n",
    "Criar uma sessão - Classe cursor"
   ]
  },
  {
   "cell_type": "code",
   "execution_count": 17,
   "id": "9938ba93",
   "metadata": {
    "scrolled": true
   },
   "outputs": [],
   "source": [
    "#cria uma sessão. No padrão da API, um cursor\n",
    "sessao = northwind.cursor()"
   ]
  },
  {
   "cell_type": "code",
   "execution_count": 18,
   "id": "11ccba3e",
   "metadata": {
    "scrolled": true
   },
   "outputs": [
    {
     "name": "stdout",
     "output_type": "stream",
     "text": [
      "(1, 'Chai', Decimal('18.0000'), 39)\n",
      "(2, 'Chang', Decimal('19.0000'), 17)\n",
      "(3, 'Aniseed Syrup', Decimal('10.0000'), 13)\n",
      "(4, \"Chef Anton's Cajun Seasoning\", Decimal('22.0000'), 53)\n",
      "(5, \"Chef Anton's Gumbo Mix\", Decimal('21.3500'), 0)\n",
      "(6, \"Grandma's Boysenberry Spread\", Decimal('25.0000'), 120)\n",
      "(7, \"Uncle Bob's Organic Dried Pears\", Decimal('30.0000'), 15)\n",
      "(10, 'Ikura', Decimal('31.0000'), 31)\n",
      "(11, 'Queso Cabrales', Decimal('21.0000'), 22)\n",
      "(12, 'Queso Manchego La Pastora', Decimal('38.0000'), 86)\n",
      "(13, 'Konbu', Decimal('6.0000'), 24)\n",
      "(14, 'Tofu', Decimal('23.2500'), 35)\n",
      "(15, 'Genen Shouyu', Decimal('15.5000'), 39)\n",
      "(16, 'Pavlova', Decimal('17.4500'), 29)\n",
      "(17, 'Alice Mutton', Decimal('39.0000'), 0)\n",
      "(19, 'Teatime Chocolate Biscuits', Decimal('9.2000'), 25)\n",
      "(21, \"Sir Rodney's Scones\", Decimal('10.0000'), 3)\n",
      "(22, \"Gustaf's KnÃ¤ckebrÃ¶d\", Decimal('21.0000'), 104)\n",
      "(23, 'TunnbrÃ¶d', Decimal('9.0000'), 61)\n",
      "(24, 'GuaranÃ¡ FantÃ¡stica', Decimal('4.5000'), 20)\n",
      "(25, 'NuNuCa NuÃŸ-Nougat-Creme', Decimal('14.0000'), 76)\n",
      "(26, 'GumbÃ¤r GummibÃ¤rchen', Decimal('31.2300'), 15)\n",
      "(30, 'Nord-Ost Matjeshering', Decimal('25.8900'), 10)\n",
      "(31, 'Gorgonzola Telino', Decimal('12.5000'), 0)\n",
      "(32, 'Mascarpone Fabioli', Decimal('32.0000'), 9)\n",
      "(33, 'Geitost', Decimal('2.5000'), 112)\n",
      "(34, 'Sasquatch Ale', Decimal('14.0000'), 111)\n",
      "(35, 'Steeleye Stout', Decimal('18.0000'), 20)\n",
      "(36, 'Inlagd Sill', Decimal('19.0000'), 112)\n",
      "(37, 'Gravad lax', Decimal('26.0000'), 11)\n",
      "(39, 'Chartreuse verte', Decimal('18.0000'), 69)\n",
      "(40, 'Boston Crab Meat', Decimal('18.4000'), 123)\n",
      "(41, \"Jack's New England Clam Chowder\", Decimal('9.6500'), 85)\n",
      "(42, 'Singaporean Hokkien Fried Mee', Decimal('14.0000'), 26)\n",
      "(44, 'Gula Malacca', Decimal('19.4500'), 27)\n",
      "(45, 'RÃ¸gede sild', Decimal('9.5000'), 5)\n",
      "(46, 'Spegesild', Decimal('12.0000'), 95)\n",
      "(47, 'Zaanse koeken', Decimal('9.5000'), 36)\n",
      "(48, 'Chocolade', Decimal('12.7500'), 15)\n",
      "(49, 'Maxilaku', Decimal('20.0000'), 10)\n",
      "(50, 'Valkoinen suklaa', Decimal('16.2500'), 65)\n",
      "(52, 'Filo Mix', Decimal('7.0000'), 38)\n",
      "(53, 'Perth Pasties', Decimal('32.8000'), 0)\n",
      "(54, 'TourtiÃ¨re', Decimal('7.4500'), 21)\n",
      "(55, 'PÃ¢tÃ© chinois', Decimal('24.0000'), 115)\n",
      "(56, 'Gnocchi di nonna Alice', Decimal('38.0000'), 21)\n",
      "(57, 'Ravioli Angelo', Decimal('19.5000'), 36)\n",
      "(58, 'Escargots de Bourgogne', Decimal('13.2500'), 62)\n",
      "(60, 'Camembert Pierrot', Decimal('34.0000'), 19)\n",
      "(61, \"Sirop d'Ã©rable\", Decimal('28.5000'), 113)\n",
      "(64, 'Wimmers gute SemmelknÃ¶del', Decimal('33.2500'), 22)\n",
      "(65, 'Louisiana Fiery Hot Pepper Sauce', Decimal('21.0500'), 76)\n",
      "(66, 'Louisiana Hot Spiced Okra', Decimal('17.0000'), 4)\n",
      "(67, 'Laughing Lumberjack Lager', Decimal('14.0000'), 52)\n",
      "(68, 'Scottish Longbreads', Decimal('12.5000'), 6)\n",
      "(69, 'Gudbrandsdalsost', Decimal('36.0000'), 26)\n",
      "(70, 'Outback Lager', Decimal('15.0000'), 15)\n",
      "(71, 'FlÃ¸temysost', Decimal('21.5000'), 26)\n",
      "(72, 'Mozzarella di Giovanni', Decimal('34.8000'), 14)\n",
      "(73, 'RÃ¶d Kaviar', Decimal('15.0000'), 101)\n",
      "(74, 'Longlife Tofu', Decimal('10.0000'), 4)\n",
      "(75, 'RhÃ¶nbrÃ¤u Klosterbier', Decimal('7.7500'), 125)\n",
      "(76, 'LakkalikÃ¶Ã¶ri', Decimal('18.0000'), 57)\n",
      "(77, 'Original Frankfurter grÃ¼ne SoÃŸe', Decimal('13.0000'), 32)\n"
     ]
    }
   ],
   "source": [
    "#faz a consulta no BD usando o método execute\n",
    "try:\n",
    "    sessao.execute(\"SELECT productid, productname, unitprice, unitsinstock FROM northwind.products WHERE unitprice < 40\")\n",
    "    for prod in sessao:\n",
    "        print(prod)\n",
    "except psycopg.Error as e:\n",
    "    print(e)"
   ]
  },
  {
   "cell_type": "code",
   "execution_count": null,
   "id": "21833e33",
   "metadata": {
    "scrolled": true
   },
   "outputs": [],
   "source": [
    "sessao.close()"
   ]
  },
  {
   "cell_type": "markdown",
   "id": "6a4d1290",
   "metadata": {},
   "source": [
    "PRÁTICA 3\n",
    "Metadados"
   ]
  },
  {
   "cell_type": "code",
   "execution_count": 19,
   "id": "00ba474a",
   "metadata": {
    "scrolled": true
   },
   "outputs": [
    {
     "name": "stdout",
     "output_type": "stream",
     "text": [
      "{'productid': 1, 'productname': 'Chai', 'unitprice': '18.00', 'unitsinstock': 39}\n",
      "{'productid': 2, 'productname': 'Chang', 'unitprice': '19.00', 'unitsinstock': 17}\n",
      "{'productid': 3, 'productname': 'Aniseed Syrup', 'unitprice': '10.00', 'unitsinstock': 13}\n",
      "{'productid': 4, 'productname': \"Chef Anton's Cajun Seasoning\", 'unitprice': '22.00', 'unitsinstock': 53}\n",
      "{'productid': 5, 'productname': \"Chef Anton's Gumbo Mix\", 'unitprice': '21.35', 'unitsinstock': 0}\n",
      "{'productid': 6, 'productname': \"Grandma's Boysenberry Spread\", 'unitprice': '25.00', 'unitsinstock': 120}\n",
      "{'productid': 7, 'productname': \"Uncle Bob's Organic Dried Pears\", 'unitprice': '30.00', 'unitsinstock': 15}\n",
      "{'productid': 10, 'productname': 'Ikura', 'unitprice': '31.00', 'unitsinstock': 31}\n",
      "{'productid': 11, 'productname': 'Queso Cabrales', 'unitprice': '21.00', 'unitsinstock': 22}\n",
      "{'productid': 12, 'productname': 'Queso Manchego La Pastora', 'unitprice': '38.00', 'unitsinstock': 86}\n",
      "{'productid': 13, 'productname': 'Konbu', 'unitprice': '6.00', 'unitsinstock': 24}\n",
      "{'productid': 14, 'productname': 'Tofu', 'unitprice': '23.25', 'unitsinstock': 35}\n",
      "{'productid': 15, 'productname': 'Genen Shouyu', 'unitprice': '15.50', 'unitsinstock': 39}\n",
      "{'productid': 16, 'productname': 'Pavlova', 'unitprice': '17.45', 'unitsinstock': 29}\n",
      "{'productid': 17, 'productname': 'Alice Mutton', 'unitprice': '39.00', 'unitsinstock': 0}\n",
      "{'productid': 19, 'productname': 'Teatime Chocolate Biscuits', 'unitprice': '9.20', 'unitsinstock': 25}\n",
      "{'productid': 21, 'productname': \"Sir Rodney's Scones\", 'unitprice': '10.00', 'unitsinstock': 3}\n",
      "{'productid': 22, 'productname': \"Gustaf's KnÃ¤ckebrÃ¶d\", 'unitprice': '21.00', 'unitsinstock': 104}\n",
      "{'productid': 23, 'productname': 'TunnbrÃ¶d', 'unitprice': '9.00', 'unitsinstock': 61}\n",
      "{'productid': 24, 'productname': 'GuaranÃ¡ FantÃ¡stica', 'unitprice': '4.50', 'unitsinstock': 20}\n",
      "{'productid': 25, 'productname': 'NuNuCa NuÃŸ-Nougat-Creme', 'unitprice': '14.00', 'unitsinstock': 76}\n",
      "{'productid': 26, 'productname': 'GumbÃ¤r GummibÃ¤rchen', 'unitprice': '31.23', 'unitsinstock': 15}\n",
      "{'productid': 30, 'productname': 'Nord-Ost Matjeshering', 'unitprice': '25.89', 'unitsinstock': 10}\n",
      "{'productid': 31, 'productname': 'Gorgonzola Telino', 'unitprice': '12.50', 'unitsinstock': 0}\n",
      "{'productid': 32, 'productname': 'Mascarpone Fabioli', 'unitprice': '32.00', 'unitsinstock': 9}\n",
      "{'productid': 33, 'productname': 'Geitost', 'unitprice': '2.50', 'unitsinstock': 112}\n",
      "{'productid': 34, 'productname': 'Sasquatch Ale', 'unitprice': '14.00', 'unitsinstock': 111}\n",
      "{'productid': 35, 'productname': 'Steeleye Stout', 'unitprice': '18.00', 'unitsinstock': 20}\n",
      "{'productid': 36, 'productname': 'Inlagd Sill', 'unitprice': '19.00', 'unitsinstock': 112}\n",
      "{'productid': 37, 'productname': 'Gravad lax', 'unitprice': '26.00', 'unitsinstock': 11}\n",
      "{'productid': 39, 'productname': 'Chartreuse verte', 'unitprice': '18.00', 'unitsinstock': 69}\n",
      "{'productid': 40, 'productname': 'Boston Crab Meat', 'unitprice': '18.40', 'unitsinstock': 123}\n",
      "{'productid': 41, 'productname': \"Jack's New England Clam Chowder\", 'unitprice': '9.65', 'unitsinstock': 85}\n",
      "{'productid': 42, 'productname': 'Singaporean Hokkien Fried Mee', 'unitprice': '14.00', 'unitsinstock': 26}\n",
      "{'productid': 44, 'productname': 'Gula Malacca', 'unitprice': '19.45', 'unitsinstock': 27}\n",
      "{'productid': 45, 'productname': 'RÃ¸gede sild', 'unitprice': '9.50', 'unitsinstock': 5}\n",
      "{'productid': 46, 'productname': 'Spegesild', 'unitprice': '12.00', 'unitsinstock': 95}\n",
      "{'productid': 47, 'productname': 'Zaanse koeken', 'unitprice': '9.50', 'unitsinstock': 36}\n",
      "{'productid': 48, 'productname': 'Chocolade', 'unitprice': '12.75', 'unitsinstock': 15}\n",
      "{'productid': 49, 'productname': 'Maxilaku', 'unitprice': '20.00', 'unitsinstock': 10}\n",
      "{'productid': 50, 'productname': 'Valkoinen suklaa', 'unitprice': '16.25', 'unitsinstock': 65}\n",
      "{'productid': 52, 'productname': 'Filo Mix', 'unitprice': '7.00', 'unitsinstock': 38}\n",
      "{'productid': 53, 'productname': 'Perth Pasties', 'unitprice': '32.80', 'unitsinstock': 0}\n",
      "{'productid': 54, 'productname': 'TourtiÃ¨re', 'unitprice': '7.45', 'unitsinstock': 21}\n",
      "{'productid': 55, 'productname': 'PÃ¢tÃ© chinois', 'unitprice': '24.00', 'unitsinstock': 115}\n",
      "{'productid': 56, 'productname': 'Gnocchi di nonna Alice', 'unitprice': '38.00', 'unitsinstock': 21}\n",
      "{'productid': 57, 'productname': 'Ravioli Angelo', 'unitprice': '19.50', 'unitsinstock': 36}\n",
      "{'productid': 58, 'productname': 'Escargots de Bourgogne', 'unitprice': '13.25', 'unitsinstock': 62}\n",
      "{'productid': 60, 'productname': 'Camembert Pierrot', 'unitprice': '34.00', 'unitsinstock': 19}\n",
      "{'productid': 61, 'productname': \"Sirop d'Ã©rable\", 'unitprice': '28.50', 'unitsinstock': 113}\n",
      "{'productid': 64, 'productname': 'Wimmers gute SemmelknÃ¶del', 'unitprice': '33.25', 'unitsinstock': 22}\n",
      "{'productid': 65, 'productname': 'Louisiana Fiery Hot Pepper Sauce', 'unitprice': '21.05', 'unitsinstock': 76}\n",
      "{'productid': 66, 'productname': 'Louisiana Hot Spiced Okra', 'unitprice': '17.00', 'unitsinstock': 4}\n",
      "{'productid': 67, 'productname': 'Laughing Lumberjack Lager', 'unitprice': '14.00', 'unitsinstock': 52}\n",
      "{'productid': 68, 'productname': 'Scottish Longbreads', 'unitprice': '12.50', 'unitsinstock': 6}\n",
      "{'productid': 69, 'productname': 'Gudbrandsdalsost', 'unitprice': '36.00', 'unitsinstock': 26}\n",
      "{'productid': 70, 'productname': 'Outback Lager', 'unitprice': '15.00', 'unitsinstock': 15}\n",
      "{'productid': 71, 'productname': 'FlÃ¸temysost', 'unitprice': '21.50', 'unitsinstock': 26}\n",
      "{'productid': 72, 'productname': 'Mozzarella di Giovanni', 'unitprice': '34.80', 'unitsinstock': 14}\n",
      "{'productid': 73, 'productname': 'RÃ¶d Kaviar', 'unitprice': '15.00', 'unitsinstock': 101}\n",
      "{'productid': 74, 'productname': 'Longlife Tofu', 'unitprice': '10.00', 'unitsinstock': 4}\n",
      "{'productid': 75, 'productname': 'RhÃ¶nbrÃ¤u Klosterbier', 'unitprice': '7.75', 'unitsinstock': 125}\n",
      "{'productid': 76, 'productname': 'LakkalikÃ¶Ã¶ri', 'unitprice': '18.00', 'unitsinstock': 57}\n",
      "{'productid': 77, 'productname': 'Original Frankfurter grÃ¼ne SoÃŸe', 'unitprice': '13.00', 'unitsinstock': 32}\n"
     ]
    }
   ],
   "source": [
    "#faz a consulta no BD usando o método execute\n",
    "try:\n",
    "    sessao.execute(\"SELECT productid, productname, unitprice::numeric(13,2)::varchar, unitsinstock FROM northwind.products WHERE unitprice < 40\")\n",
    "    metadata_colunas = [desc[0] for desc in sessao.description]\n",
    "    for prod in sessao:\n",
    "        dicionario = dict(zip(metadata_colunas, prod))\n",
    "        print(dicionario)\n",
    "        \n",
    "except psycopg.Error as e:\n",
    "    print(e)\n",
    "\n",
    "\n",
    "\n"
   ]
  },
  {
   "cell_type": "code",
   "execution_count": 10,
   "id": "47150e6c",
   "metadata": {
    "scrolled": true
   },
   "outputs": [],
   "source": [
    "sessao.close()"
   ]
  },
  {
   "cell_type": "markdown",
   "id": "000a5cd7",
   "metadata": {},
   "source": [
    "PRÁTICA 4\n",
    "Transações - Sem contexto"
   ]
  },
  {
   "cell_type": "code",
   "execution_count": 20,
   "id": "191565d8",
   "metadata": {
    "scrolled": true
   },
   "outputs": [
    {
     "name": "stdout",
     "output_type": "stream",
     "text": [
      "Conexão executada com sucesso\n"
     ]
    }
   ],
   "source": [
    "#Conexão com o banco de dados\n",
    "#string de conexão é formada pelo endereço do banco (host), nome do banco, nome do usuário e a senha\n",
    "#northwind é a instância dessa conexão\n",
    "try:\n",
    "    northwind = psycopg.connect(\n",
    "        host='localhost',\n",
    "        dbname='northwind', \n",
    "        user = 'postgres', \n",
    "        password = 'root'\n",
    "    )\n",
    "    print (\"Conexão executada com sucesso\")\n",
    "except OperationalError as e:\n",
    "    print(e)"
   ]
  },
  {
   "cell_type": "code",
   "execution_count": 21,
   "id": "f956b0a4",
   "metadata": {
    "scrolled": true
   },
   "outputs": [
    {
     "ename": "SyntaxError",
     "evalue": "INSERT tem mais expressões do que colunas alvo\nLINE 1: ...ategories VALUES (130,'Automóveis', 'Carros utilitários', 0)\n                                                                     ^",
     "output_type": "error",
     "traceback": [
      "\u001b[1;31m---------------------------------------------------------------------------\u001b[0m",
      "\u001b[1;31mSyntaxError\u001b[0m                               Traceback (most recent call last)",
      "Cell \u001b[1;32mIn[21], line 3\u001b[0m\n\u001b[0;32m      1\u001b[0m sessao \u001b[38;5;241m=\u001b[39m northwind\u001b[38;5;241m.\u001b[39mcursor()\n\u001b[0;32m      2\u001b[0m comando2 \u001b[38;5;241m=\u001b[39m \u001b[38;5;124m\"\u001b[39m\u001b[38;5;124mINSERT INTO northwind.categories VALUES (130,\u001b[39m\u001b[38;5;124m'\u001b[39m\u001b[38;5;124mAutomóveis\u001b[39m\u001b[38;5;124m'\u001b[39m\u001b[38;5;124m, \u001b[39m\u001b[38;5;124m'\u001b[39m\u001b[38;5;124mCarros utilitários\u001b[39m\u001b[38;5;124m'\u001b[39m\u001b[38;5;124m, 0)\u001b[39m\u001b[38;5;124m\"\u001b[39m\n\u001b[1;32m----> 3\u001b[0m \u001b[43msessao\u001b[49m\u001b[38;5;241;43m.\u001b[39;49m\u001b[43mexecute\u001b[49m\u001b[43m(\u001b[49m\u001b[43mcomando2\u001b[49m\u001b[43m)\u001b[49m\n\u001b[0;32m      4\u001b[0m \u001b[38;5;66;03m# a inserção foi realizada, mas ainda não foi comitada\u001b[39;00m\n",
      "File \u001b[1;32mc:\\Users\\Pedro Venancio\\AppData\\Local\\Programs\\Python\\Python311\\Lib\\site-packages\\psycopg\\cursor.py:97\u001b[0m, in \u001b[0;36mCursor.execute\u001b[1;34m(self, query, params, prepare, binary)\u001b[0m\n\u001b[0;32m     93\u001b[0m         \u001b[38;5;28mself\u001b[39m\u001b[38;5;241m.\u001b[39m_conn\u001b[38;5;241m.\u001b[39mwait(\n\u001b[0;32m     94\u001b[0m             \u001b[38;5;28mself\u001b[39m\u001b[38;5;241m.\u001b[39m_execute_gen(query, params, prepare\u001b[38;5;241m=\u001b[39mprepare, binary\u001b[38;5;241m=\u001b[39mbinary)\n\u001b[0;32m     95\u001b[0m         )\n\u001b[0;32m     96\u001b[0m \u001b[38;5;28;01mexcept\u001b[39;00m e\u001b[38;5;241m.\u001b[39m_NO_TRACEBACK \u001b[38;5;28;01mas\u001b[39;00m ex:\n\u001b[1;32m---> 97\u001b[0m     \u001b[38;5;28;01mraise\u001b[39;00m ex\u001b[38;5;241m.\u001b[39mwith_traceback(\u001b[38;5;28;01mNone\u001b[39;00m)\n\u001b[0;32m     98\u001b[0m \u001b[38;5;28;01mreturn\u001b[39;00m \u001b[38;5;28mself\u001b[39m\n",
      "\u001b[1;31mSyntaxError\u001b[0m: INSERT tem mais expressões do que colunas alvo\nLINE 1: ...ategories VALUES (130,'Automóveis', 'Carros utilitários', 0)\n                                                                     ^"
     ]
    }
   ],
   "source": [
    "sessao = northwind.cursor()\n",
    "comando2 = \"INSERT INTO northwind.categories VALUES (130,'Automóveis', 'Carros utilitários', 0)\"\n",
    "sessao.execute(comando2)\n",
    "# a inserção foi realizada, mas ainda não foi comitada"
   ]
  },
  {
   "cell_type": "code",
   "execution_count": 18,
   "id": "791daf62",
   "metadata": {
    "scrolled": true
   },
   "outputs": [],
   "source": [
    "northwind.close()\n",
    "#ao fechar a conexão sem commit (northwind.commit()), a transação iniciada é abortada (northwind.rollback())"
   ]
  },
  {
   "cell_type": "raw",
   "id": "067e1ef4",
   "metadata": {},
   "source": [
    "PRÁTICA 5\n",
    "Transações - Com contexto (exception)"
   ]
  },
  {
   "cell_type": "code",
   "execution_count": null,
   "id": "9a1d3ed5",
   "metadata": {
    "scrolled": true
   },
   "outputs": [],
   "source": [
    "#Conexão com o banco de dados\n",
    "#string de conexão é formada pelo endereço do banco (host), nome do banco, nome do usuário e a senha\n",
    "#northwind é a instância dessa conexão\n",
    "try:\n",
    "    northwind = psycopg.connect(\n",
    "        host='localhost',\n",
    "        dbname='northwind', \n",
    "        user = 'postgres', \n",
    "        password = 'root',\n",
    "        autocommit = False\n",
    "    )\n",
    "    print (\"Conexão executada com sucesso\")\n",
    "except OperationalError as e:\n",
    "    print(e)"
   ]
  },
  {
   "cell_type": "code",
   "execution_count": null,
   "id": "df191efc",
   "metadata": {
    "scrolled": true
   },
   "outputs": [],
   "source": [
    "try:\n",
    "    sessao = northwind.cursor()\n",
    "    comando1 = \"UPDATE northwind.products SET productname = 'arroz' WHERE productid = 10\"\n",
    "    sessao.execute(comando1)\n",
    "    comando2 = \"INSERT INTO northwind.categorie VALUES (13,'Automóveis', 'Carros utilitários', 0)\"\n",
    "    sessao.execute(comando2)\n",
    "    for cat in sessao:\n",
    "        print(cat)        \n",
    "except psycopg.Error as e:\n",
    "    print(e)\n",
    "#caso ocorra uma exception, a transação é abortada\n",
    "#caso o bloco execute perfeitamente, a transação é comitada"
   ]
  },
  {
   "cell_type": "code",
   "execution_count": null,
   "id": "43141bca",
   "metadata": {
    "scrolled": true
   },
   "outputs": [],
   "source": [
    "sessao.close()"
   ]
  },
  {
   "cell_type": "code",
   "execution_count": null,
   "id": "ff5b35d5",
   "metadata": {
    "scrolled": true
   },
   "outputs": [],
   "source": [
    "northwind.close()"
   ]
  },
  {
   "cell_type": "markdown",
   "id": "d5e59024",
   "metadata": {},
   "source": [
    "PRÁTICA 6\n",
    "Transações - Com contexto with"
   ]
  },
  {
   "cell_type": "code",
   "execution_count": 76,
   "id": "afa500ac",
   "metadata": {
    "scrolled": true
   },
   "outputs": [],
   "source": [
    "#Conexão com o banco de dados\n",
    "#string de conexão é formada pelo endereço do banco (host), nome do banco, nome do usuário e a senha\n",
    "#northwind é a instância dessa conexão\n",
    "with psycopg.connect( host='localhost', dbname='northwind', user = 'postgres', password = 'root') as northwind:  \n",
    "    with northwind.cursor() as sessao:\n",
    "        comando1 = \"UPDATE northwind.products SET productname = 'arroz' WHERE productid = 10\"\n",
    "        sessao.execute(comando1)\n",
    "        comando2 = \"INSERT INTO northwind.categories VALUES (13,'Automóveis', 'Carros utilitários', 0)\"\n",
    "        sessao.execute(comando2)"
   ]
  },
  {
   "cell_type": "code",
   "execution_count": null,
   "id": "f07c67c9",
   "metadata": {},
   "outputs": [],
   "source": []
  }
 ],
 "metadata": {
  "kernelspec": {
   "display_name": "Python 3",
   "language": "python",
   "name": "python3"
  },
  "language_info": {
   "codemirror_mode": {
    "name": "ipython",
    "version": 3
   },
   "file_extension": ".py",
   "mimetype": "text/x-python",
   "name": "python",
   "nbconvert_exporter": "python",
   "pygments_lexer": "ipython3",
   "version": "3.11.3"
  }
 },
 "nbformat": 4,
 "nbformat_minor": 5
}
